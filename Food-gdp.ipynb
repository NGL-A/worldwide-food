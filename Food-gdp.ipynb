{
 "cells": [
  {
   "cell_type": "code",
   "execution_count": 38,
   "id": "eaa1b5ff",
   "metadata": {},
   "outputs": [],
   "source": [
    "# Remember to eliminate first 4 rows on gdp.csv \n",
    "#(https://api.worldbank.org/v2/en/indicator/NY.GDP.MKTP.CD?downloadformat=csv)\n",
    "#provenienza dataset  Food and Agricultural Organization of United Nations\n",
    "#https://data.worldbank.org/indicator/NY.GDP.MKTP.CD\n",
    "import pandas as pd\n",
    "import numpy as np\n",
    "crop = pd.read_csv(\"crop1.csv\")\n",
    "live = pd.read_csv(\"live1.csv\")\n",
    "pop = pd.read_csv(\"pop1.csv\")\n",
    "gdp = pd.read_csv(\"gdp.csv\")\n",
    "ccc = pd.read_csv(\"countries_codes_and_coordinates.csv\")"
   ]
  },
  {
   "cell_type": "code",
   "execution_count": 39,
   "id": "6aad6266",
   "metadata": {},
   "outputs": [],
   "source": [
    "#for beehives it may mean the number of hives and not bees\n",
    "live['Value'] = np.where(live['Unit'] == '1000 Head',live['Value'] * 1000,live['Value'])\n",
    "live[\"Unit\"] = 'Head'"
   ]
  },
  {
   "cell_type": "code",
   "execution_count": 40,
   "id": "060d98d9",
   "metadata": {},
   "outputs": [],
   "source": [
    "crop = crop.append(live)"
   ]
  },
  {
   "cell_type": "code",
   "execution_count": 41,
   "id": "3bdf05b3",
   "metadata": {},
   "outputs": [],
   "source": [
    "crop = crop[crop.Area != \"Australia and New Zealand\"] #Australia and New Zealand = Australia+New Zealand\n",
    "crop = crop[crop.Area != \"China, Hong Kong SAR\"]#China=China Hong Kong+Macao+Taiwan+mainland\n",
    "crop = crop[crop.Area != \"China, Macao SAR\"]\n",
    "crop = crop[crop.Area != \"China, Taiwan Province of\"]\n",
    "crop = crop[crop.Area != \"China, mainland\"]\n",
    "\n",
    "crop['Area'].replace(['Bolivia (Plurinational State of)'], ['Bolivia'],inplace=True)\n",
    "crop['Area'].replace(['Cabo Verde'], ['Cape Verde'],inplace=True)\n",
    "crop['Area'].replace(['Czechia'], ['Czech Republic'],inplace=True)\n",
    "crop['Area'].replace(['Ethiopia PDR'], ['Ethiopia'],inplace=True)\n",
    "crop['Area'].replace(['French Guyana'], ['French Guiana'],inplace=True)\n",
    "crop['Area'].replace(['Democratic Republic of the Congo'], ['Congo, the Democratic Republic of the'],inplace=True)\n",
    "crop['Area'].replace(['Iran (Islamic Republic of)'], ['Iran, Islamic Republic of'],inplace=True)\n",
    "crop['Area'].replace([\"Democratic People's Republic of Korea\"], [\"Korea, Democratic People's Republic of\"],inplace=True)\n",
    "crop['Area'].replace(['Republic of Korea'], ['South Korea'],inplace=True)\n",
    "crop['Area'].replace(['Republic of Moldova'], ['Moldova, Republic of'],inplace=True)\n",
    "crop['Area'].replace(['North Macedonia'], ['Macedonia, the former Yugoslav Republic of'],inplace=True)\n",
    "crop['Area'].replace(['Palestine'], ['Palestinian Territory, Occupied'],inplace=True)\n",
    "crop['Area'].replace(['Sudan (former)'], ['Sudan'],inplace=True)\n",
    "crop['Area'].replace(['USSR'], ['Russian Federation'],inplace=True)\n",
    "crop['Area'].replace(['United Kingdom of Great Britain and Northern Ireland'], ['United Kingdom'],inplace=True)\n",
    "crop['Area'].replace(['United States of America'], ['United States'],inplace=True)\n",
    "crop['Area'].replace(['Venezuela (Bolivarian Republic of)'], ['Venezuela'],inplace=True)"
   ]
  },
  {
   "cell_type": "code",
   "execution_count": 42,
   "id": "5a6b4a47",
   "metadata": {},
   "outputs": [],
   "source": [
    "#Belgium-Luxembourg fino al 2000, poi Belgium e Luxembourg separati\n",
    "#Czechoslovakia fino al 1992, Czechia e Slovakia  dal 1993\n",
    "#Serbia and Montenegro fino al 2005, poi Serbia e Montenegro "
   ]
  },
  {
   "cell_type": "code",
   "execution_count": 43,
   "id": "5cf34f1e",
   "metadata": {},
   "outputs": [],
   "source": [
    "ccc.drop([\"Alpha-2 code\",\"Numeric code\",\"Latitude (average)\",\"Longitude (average)\"],axis=1,inplace=True)\n",
    "ccc[\"Alpha-3 code\"]=ccc[\"Alpha-3 code\"].apply(lambda x: ''.join(e for e in x if e.isalnum()))"
   ]
  },
  {
   "cell_type": "code",
   "execution_count": 44,
   "id": "5ea98f75",
   "metadata": {},
   "outputs": [],
   "source": [
    "crop = crop.merge(ccc,how=\"left\",left_on=[\"Area\"],right_on=[\"Country\"])"
   ]
  },
  {
   "cell_type": "code",
   "execution_count": 45,
   "id": "ebbc0fdb",
   "metadata": {},
   "outputs": [],
   "source": [
    "gdp.drop([\"Indicator Code\",\"Indicator Name\"],axis=1,inplace=True)\n",
    "gdp = gdp.melt(id_vars=[\"Country Name\",\"Country Code\"],var_name=\"Year\",value_name=\"GDP\")\n",
    "gdp = gdp.astype({\"Year\" : \"int64\"})"
   ]
  },
  {
   "cell_type": "code",
   "execution_count": 46,
   "id": "cfa55ebd",
   "metadata": {},
   "outputs": [],
   "source": [
    "c = [0.0]\n",
    "c.extend(list(crop[\"Value\"][:-1].values))\n",
    "crop[\"Previous_value\"] = c\n",
    "crop.loc[crop[[\"Area\",\"Item\",\"Element\"]].drop_duplicates().index,\"Previous_value\"] = 0"
   ]
  },
  {
   "cell_type": "code",
   "execution_count": 47,
   "id": "96941293",
   "metadata": {},
   "outputs": [],
   "source": [
    "crop[\"Increase\"] = 100*(crop[\"Value\"]-crop[\"Previous_value\"])/crop[\"Previous_value\"]\n",
    "crop.replace([np.inf, -np.inf, np.nan], 0, inplace=True)\n",
    "crop[\"Increase\"] = round(crop[\"Increase\"], 2)"
   ]
  },
  {
   "cell_type": "code",
   "execution_count": 48,
   "id": "4fc6eb88",
   "metadata": {},
   "outputs": [],
   "source": [
    "crop = crop.merge(gdp,how=\"left\",left_on=[\"Year\",\"Alpha-3 code\"],right_on=[\"Year\",\"Country Code\"])\n",
    "crop.drop([\"Alpha-3 code\",\"Country Name\"],axis=1,inplace=True)\n",
    "crop.replace([np.inf, -np.inf, np.nan], 0, inplace=True)"
   ]
  },
  {
   "cell_type": "code",
   "execution_count": 49,
   "id": "bb2eb1a1",
   "metadata": {},
   "outputs": [],
   "source": [
    "c = [0.0]\n",
    "c.extend(list(crop[\"GDP\"][:-1].values))\n",
    "crop[\"Previous_GDP\"] = c\n",
    "crop.loc[crop[[\"Area\",\"Item\",\"Element\"]].drop_duplicates().index,\"Previous_GDP\"] = 0"
   ]
  },
  {
   "cell_type": "code",
   "execution_count": 50,
   "id": "417e7ea0",
   "metadata": {},
   "outputs": [],
   "source": [
    "crop[\"Increase_GDP\"] = 100*(crop[\"GDP\"]-crop[\"Previous_GDP\"])/crop[\"Previous_GDP\"]\n",
    "crop.replace([np.inf, -np.inf, np.nan], 0, inplace=True)\n",
    "crop[\"Increase_GDP\"] = round(crop[\"Increase_GDP\"], 2)"
   ]
  },
  {
   "cell_type": "code",
   "execution_count": 51,
   "id": "8c198ec8",
   "metadata": {},
   "outputs": [],
   "source": [
    "pop = pop.melt(id_vars=[\"Country Name\",\"Country Code\"],var_name=\"Year\",value_name=\"Pop\")\n",
    "pop = pop.astype({\"Year\" : \"int64\"})\n",
    "crop = crop.merge(pop,how=\"left\",left_on=[\"Area\",\"Year\"],right_on=[\"Country Name\",\"Year\"])\n",
    "crop.drop([\"Country Name\",\"Country\",\"Country Code_y\"],axis=1,inplace=True)\n",
    "crop.rename(columns={\"Country Code_x\":\"Country Code\"}, inplace=True)\n",
    "crop.replace([np.inf, -np.inf, np.nan], 0, inplace=True)"
   ]
  },
  {
   "cell_type": "code",
   "execution_count": 52,
   "id": "110377aa",
   "metadata": {},
   "outputs": [],
   "source": [
    "c = [0.0]\n",
    "c.extend(list(crop[\"Pop\"][:-1].values))\n",
    "crop[\"Previous_Pop\"] = c\n",
    "crop.loc[crop[[\"Area\",\"Item\",\"Element\"]].drop_duplicates().index,\"Previous_Pop\"] = 0\n",
    "crop[\"Increase_Pop\"] = 100*(crop[\"Pop\"]-crop[\"Previous_Pop\"])/crop[\"Previous_Pop\"]\n",
    "crop.replace([np.inf, -np.inf, np.nan], 0, inplace=True)\n",
    "crop[\"Increase_Pop\"] = round(crop[\"Increase_Pop\"], 2)"
   ]
  },
  {
   "cell_type": "code",
   "execution_count": 53,
   "id": "03edb519",
   "metadata": {},
   "outputs": [],
   "source": [
    "fruit_vegetables = ['Apples','Apricots','Artichokes','Asparagus','Avocados','Bananas','Berries nes',\n",
    "                   'Cabbages and other brassicas','Carrots and turnips','Castor oil seed',\n",
    "                    'Cauliflowers and broccoli','Cherries','Chillies and peppers, dry',\n",
    "                    'Chillies and peppers, green','Coconuts','Coffee, green','Cow peas, dry','Cucumbers and gherkins',\n",
    "                   'Dates','Eggplants (aubergines)','Figs','Fruit, citrus nes','Fruit, fresh nes','Fruit, stone nes',\n",
    "                    'Fruit, tropical fresh nes','Garlic','Grapefruit (inc. pomelos)','Grapes','Hops','Kiwi fruit',\n",
    "                    'Leeks, other alliaceous vegetables','Lemons and limes','Lettuce and chicory',\n",
    "                    'Mangoes, mangosteens, guavas','Melons, other (inc.cantaloupes)','Melonseed','Onions, dry',\n",
    "                    'Onions, shallots, green','Oranges','Papayas','Peaches and nectarines','Pears','Peas, dry',\n",
    "                    'Peas, green','Pepper (piper spp.)','Persimmons','Pineapples','Plums and sloes',\n",
    "                   'Pumpkins, squash and gourds','Quinces','Spinach','Strawberries','Sugar beet',\n",
    "                    'Tangerines, mandarins, clementines, satsumas','Taro (cocoyam)','Tomatoes',\n",
    "                    'Vegetables, fresh nes','Vegetables, leguminous nes','Watermelons']\n",
    "tubers = ['Cassava','Potatoes','Sweet potatoes']\n",
    "cereals = ['barley','Buckwheat','Cereals nes','Maize','Maize, green','Millet','Oats','Rice, paddy',\n",
    "           'Roots and tubers nes','Rye','Sorghum','Triticale','Wheat'] \n",
    "herbs = ['Anise, badian, fennel, coriander','Cinnamon (cannella)','Cloves','Ginger','Linseed','Mustard seed',\n",
    "        'Pepper (piper spp.)','Spices nes','Sugar cane','Tea','Tobacco, unmanufactured','Vanilla']\n",
    "nuts = ['Almonds, with shell','Cashew nuts, with shell','Chestnut','Groundnuts, with shell','Hazelnuts, with shell',\n",
    "       'Nuts nes','Pistachios','Tung nuts','Walnuts, with shell']\n",
    "fibres = ['Bastfibres, other','Flax fibre and tow','Hemp tow waste','Jute','Ramie','Sisal','Tallowtree seed']\n",
    "legumes = ['Beans, dry','Beans, green','Broad beans, horse beans, dry','Chick peas','Lentils','Pulses nes',\n",
    "          'Soybeans']\n",
    "mushrooms = ['Mushrooms and truffles']\n",
    "oils = ['Oil palm fruit','Oilseeds nes','Rapeseed','Sunflower seed']\n",
    "other = ['Rubber, natural','Safflower seed','Seed cotton','Sesame seed']\n",
    "crops=[fruit_vegetables,tubers,cereals,herbs,nuts,fibres,legumes,mushrooms,oils,other]\n",
    "crops_type = [\"fruit_vegetables\",\"tubers\",\"cereals\",\"herbs\",\"nuts\",\"fibres\",\"legumes\",\"mushrooms\",\"oils\",\"other\"]\n",
    "def type_crop(row):\n",
    "    for x in crops:\n",
    "        if row[\"Item\"] in x:\n",
    "            return crops_type[crops.index(x)]\n",
    "    return \"Live\"\n",
    "crop['type'] = crop.apply(type_crop, axis=1)"
   ]
  },
  {
   "cell_type": "code",
   "execution_count": 54,
   "id": "bf1b4c8d",
   "metadata": {},
   "outputs": [],
   "source": [
    "aggregated_countries = ['Africa','Americas','Asia','Australia and New Zealand','Belgium-Luxembourg','Central America',\n",
    "                        'Central Asia','China, Hong Kong SAR','China, Macao SAR','China, Taiwan Province of',\n",
    "                        'China, mainland','Eastern Africa', 'Eastern Asia','Eastern Europe','Europe',\n",
    "                        'European Union (27)','Land Locked Developing Countries','Least Developed Countries',\n",
    "                        'Low Income Food Deficit Countries','Middle Africa', 'Net Food Importing Developing Countries',\n",
    "                        'Northern Africa','Northern America','Northern Europe','Oceania',\n",
    "                        'Small Island Developing States','South Africa','South America','South-eastern Asia',\n",
    "                        'Southern Africa','Southern Asia','Southern Europe','Western Africa','Western Asia',\n",
    "                        'Western Europe','World']\n",
    "crop[\"Agg\"] = crop['Area'].apply(lambda x: 1 if x in aggregated_countries else 0)"
   ]
  },
  {
   "cell_type": "code",
   "execution_count": 55,
   "id": "f21bcb85",
   "metadata": {},
   "outputs": [],
   "source": [
    "glt = pd.read_csv(\"GlobalLandTemperaturesByCountry.csv\")\n",
    "glt=glt[(glt[\"dt\"]>\"1961\")&(glt[\"dt\"]<\"2013\")]\n",
    "glt[\"aggdt\"]=glt['dt'].apply(lambda x: x.split('-')[0])"
   ]
  },
  {
   "cell_type": "code",
   "execution_count": 56,
   "id": "e0c0a1c3",
   "metadata": {},
   "outputs": [],
   "source": [
    "glt=glt.groupby([\"Country\",\"aggdt\"],group_keys=False).sum()/12\n",
    "glt = glt.reset_index(drop=False)"
   ]
  },
  {
   "cell_type": "code",
   "execution_count": 57,
   "id": "61e618d2",
   "metadata": {},
   "outputs": [],
   "source": [
    "glt['Country'].replace(['Bosnia And Herzegovina'], ['Bosnia and Herzegovina'],inplace=True)\n",
    "glt['Country'].replace(['Congo (Democratic Republic Of The)'], ['Congo, the Democratic Republic of the'],inplace=True)\n",
    "glt['Country'].replace(['Denmark (Europe)'], ['Denmark'],inplace=True)\n",
    "glt['Country'].replace(['France (Europe)'], ['France'],inplace=True)\n",
    "glt['Country'].replace(['Iran'], ['Iran, Islamic Republic of'],inplace=True)\n",
    "glt['Country'].replace(['North Korea'], [\"Korea, Democratic People's Republic of\"],inplace=True)\n",
    "glt['Country'].replace(['Macedonia'], [\"Macedonia, the former Yugoslav Republic of\"],inplace=True)\n",
    "glt['Country'].replace(['Moldova'], [\"Moldova, Republic of\"],inplace=True)\n",
    "glt['Country'].replace(['Netherlands (Europe)'], [\"Netherlands\"],inplace=True)\n",
    "glt['Country'].replace(['Palestina'], [\"Palestinian Territory, Occupied\"],inplace=True)\n",
    "glt['Country'].replace(['Russia'], [\"Russian Federation\"],inplace=True)\n",
    "glt['Country'].replace(['United Kingdom (Europe)'], [\"United Kingdom\"],inplace=True)\n",
    "glt['Country'].replace(['Vietnam'], [\"Viet Nam\"],inplace=True)"
   ]
  },
  {
   "cell_type": "code",
   "execution_count": 58,
   "id": "2c557b6a",
   "metadata": {},
   "outputs": [],
   "source": [
    "glt = glt.merge(ccc,how=\"left\",left_on=[\"Country\"],right_on=[\"Country\"])"
   ]
  },
  {
   "cell_type": "code",
   "execution_count": 59,
   "id": "90f8fc19",
   "metadata": {},
   "outputs": [],
   "source": [
    "glt = glt.astype({\"aggdt\" : \"int64\"})\n",
    "glt.drop([\"AverageTemperatureUncertainty\"],axis=1,inplace=True)\n",
    "crop = crop.merge(glt,how=\"left\",left_on=[\"Year\",\"Country Code\"],right_on=[\"aggdt\",\"Alpha-3 code\"])\n",
    "crop.drop([\"aggdt\",\"Country\",\"Alpha-3 code\"],axis=1,inplace=True)\n",
    "crop.replace([np.inf, -np.inf, np.nan], 0, inplace=True)"
   ]
  },
  {
   "cell_type": "code",
   "execution_count": 61,
   "id": "d5263376",
   "metadata": {},
   "outputs": [],
   "source": [
    "crop = crop[(crop[\"Element\"]==\"Production\")|(crop[\"Element\"]==\"Stocks\")]"
   ]
  },
  {
   "cell_type": "code",
   "execution_count": 62,
   "id": "86be8f69",
   "metadata": {},
   "outputs": [],
   "source": [
    "crop.to_csv('farming.csv',index=False)"
   ]
  },
  {
   "cell_type": "code",
   "execution_count": null,
   "id": "0ecd9859",
   "metadata": {},
   "outputs": [],
   "source": []
  }
 ],
 "metadata": {
  "kernelspec": {
   "display_name": "Python 3 (ipykernel)",
   "language": "python",
   "name": "python3"
  },
  "language_info": {
   "codemirror_mode": {
    "name": "ipython",
    "version": 3
   },
   "file_extension": ".py",
   "mimetype": "text/x-python",
   "name": "python",
   "nbconvert_exporter": "python",
   "pygments_lexer": "ipython3",
   "version": "3.7.10"
  }
 },
 "nbformat": 4,
 "nbformat_minor": 5
}
